{
 "cells": [
  {
   "cell_type": "code",
   "execution_count": null,
   "metadata": {},
   "outputs": [],
   "source": [
    "import numpy as np\n",
    "import ROOT"
   ]
  },
  {
   "cell_type": "code",
   "execution_count": null,
   "metadata": {},
   "outputs": [],
   "source": [
    "fSDMmin2pdf = ROOT.TFile('~/BToInv/PiChannel/Analysis/Files/RootFiles/hS_D_m00_Mmin2_pdf.root')\n",
    "f2 = ROOT.TFile('~/BToInv/PiChannel/Analysis/Files/RootFiles/hS_D_m50_Mmin2_pdf.root')\n",
    "f3 = ROOT.TFile('~/BToInv/PiChannel/Analysis/Files/RootFiles/hS_D_m00_Mmax2_pdf.root')\n",
    "f4 = ROOT.TFile('~/BToInv/PiChannel/Analysis/Files/RootFiles/hS_D_m50_Mmax2_pdf.root')"
   ]
  }
 ],
 "metadata": {
  "kernelspec": {
   "display_name": "RootPyEnv",
   "language": "python",
   "name": "python3"
  },
  "language_info": {
   "name": "python",
   "version": "3.10.6"
  },
  "orig_nbformat": 4
 },
 "nbformat": 4,
 "nbformat_minor": 2
}
